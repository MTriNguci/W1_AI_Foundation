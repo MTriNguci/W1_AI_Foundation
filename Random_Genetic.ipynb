{
 "cells": [
  {
   "cell_type": "markdown",
   "metadata": {},
   "source": [
    "<h2>RANDOM ALGORITHM TO FIND PI NUMBER</h2>"
   ]
  },
  {
   "cell_type": "code",
   "execution_count": 1,
   "metadata": {},
   "outputs": [
    {
     "name": "stdout",
     "output_type": "stream",
     "text": [
      "3.1415164\n"
     ]
    }
   ],
   "source": [
    "import random as rd\n",
    "\n",
    "N = 10000000\n",
    "S = 0\n",
    "for i in range(N):\n",
    "    x = rd.random()\n",
    "    y = rd.random()\n",
    "    if ((x - 0.5)**2 + (y-0.5)**2) <= 0.25:\n",
    "        S+=1\n",
    "\n",
    "print(4*S/N)\n"
   ]
  },
  {
   "cell_type": "markdown",
   "metadata": {},
   "source": [
    "<h2>GENETIC ALGORITHM TO SOLVE QUADRATIC EQUATION </h2>"
   ]
  },
  {
   "cell_type": "code",
   "execution_count": 179,
   "metadata": {},
   "outputs": [
    {
     "name": "stdout",
     "output_type": "stream",
     "text": [
      "[(1.6844096866897935, 0.21599306745497238), (1.6787302690399302, 0.21805549092891452), (1.5738915357721692, 0.24454004094123016), (1.6000940577695941, 0.2399811795992175), (1.4890592838112606, 0.24988030072927714), (1.6726358930953182, 0.22019684841518172), (1.6357917824667463, 0.2315605918145036), (1.6615039468689141, 0.22391647514576363), (1.646973326526867, 0.22839884128962717), (1.5438374450951153, 0.2480782784075326)]\n",
      "x: 1.6844096866897935\n"
     ]
    }
   ],
   "source": [
    "import random\n",
    "import numpy as np\n",
    "\n",
    "# FIND VALUE OF THE EQUAION\n",
    "def value (x,a,b,c):\n",
    "    return a*(x**2) + b*x+c\n",
    "# EVALUATE THE FITNESS OF OUR SOLUTIONS\n",
    "def fitness (x,a,b,c):\n",
    "    return abs(a*x**2 + b*x+c)\n",
    "# CROSS OVER   // lai ghep\n",
    "def crossover(x1,x2):\n",
    "    return (x1 + x2) / 2\n",
    "# MUTATION // dot bien\n",
    "def mutate (x):\n",
    "    return x + random.uniform(-0.1,0.1)\n",
    "\n",
    "\n",
    "size = 10\n",
    "#Initialize first 10 populations\n",
    "population = [random.uniform(-10,10) for _ in range (size)]\n",
    "\n",
    "\n",
    "N = 100 # number of generation aka number of loops\n",
    "a = 1\n",
    "b = -3\n",
    "c = 2\n",
    "# def softmax(x):\n",
    "#     e_x = np.exp(x - np.max(x))  # subtract max(x) for numerical stability\n",
    "#     return e_x / e_x.sum()\n",
    "\n",
    "min_fitness_before = 1000\n",
    "answer = 1\n",
    "for _ in range (N):\n",
    "    fitness_value = [fitness(x,a,b,c) for x in population] #FITNESS VALUE OF EACH POPULATION\n",
    "    parents = np.random.choice(population, size = 2, p=[f/sum(fitness_value) for f in fitness_value]) #CHOOSE RANDOMLY 2 POPULATIONS TO CROSSOVER\n",
    "    children = [mutate(crossover(parents[0],parents[1])) for _ in range (size)] \n",
    "    population = children\n",
    "\n",
    "    min_fitness_after = min(fitness(x,a,b,c) for x in population)\n",
    "    if min_fitness_after < min_fitness_before:\n",
    "        best_sols = min(population, key = lambda x: fitness(x,a,b,c)) # a population that has MIN of fitness\n",
    "        answer = best_sols\n",
    "    min_fitness_before = min_fitness_after\n",
    "\n",
    "hesoTN = [fitness(x,a,b,c) for x in population]\n",
    "print(list(zip(population,hesoTN)))\n",
    "print(f'x: {answer}')"
   ]
  }
 ],
 "metadata": {
  "kernelspec": {
   "display_name": "Python 3",
   "language": "python",
   "name": "python3"
  },
  "language_info": {
   "codemirror_mode": {
    "name": "ipython",
    "version": 3
   },
   "file_extension": ".py",
   "mimetype": "text/x-python",
   "name": "python",
   "nbconvert_exporter": "python",
   "pygments_lexer": "ipython3",
   "version": "3.10.7"
  },
  "orig_nbformat": 4
 },
 "nbformat": 4,
 "nbformat_minor": 2
}
