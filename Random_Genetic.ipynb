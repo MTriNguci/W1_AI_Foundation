{
 "cells": [
  {
   "cell_type": "markdown",
   "metadata": {},
   "source": [
    "<h2>RANDOM ALGORITHM TO FIND PI NUMBER</h2>"
   ]
  },
  {
   "cell_type": "code",
   "execution_count": 1,
   "metadata": {},
   "outputs": [
    {
     "name": "stdout",
     "output_type": "stream",
     "text": [
      "3.1415164\n"
     ]
    }
   ],
   "source": [
    "import random as rd\n",
    "\n",
    "N = 10000000\n",
    "S = 0\n",
    "for i in range(N):\n",
    "    x = rd.random()\n",
    "    y = rd.random()\n",
    "    if ((x - 0.5)**2 + (y-0.5)**2) <= 0.25:\n",
    "        S+=1\n",
    "\n",
    "print(4*S/N)\n"
   ]
  },
  {
   "cell_type": "markdown",
   "metadata": {},
   "source": [
    "<h2>GENETIC ALGORITHM TO SOLVE QUADRATIC EQUATION </h2>"
   ]
  },
  {
   "cell_type": "code",
   "execution_count": null,
   "metadata": {},
   "outputs": [],
   "source": [
    "import random\n",
    "import numpy as np\n",
    "\n",
    "# FIND VALUE OF THE EQUAION\n",
    "def value (x,a,b,c):\n",
    "    return a*x**2 + b*c+c\n",
    "# EVALUATE THE FITNESS OF OUR SOLUTIONS\n",
    "def fitness (x,a,b,c):\n",
    "    return 10000 - ( a*x**2 + b*c+c )\n",
    "# CROSS OVER\n",
    "def crossover(x1,x2):\n",
    "    return (x1 + x2) / 2\n",
    "# MUTATION\n",
    "def mutate (x):\n",
    "    return + random.uniform(-0.1,0.1)"
   ]
  }
 ],
 "metadata": {
  "kernelspec": {
   "display_name": "Python 3",
   "language": "python",
   "name": "python3"
  },
  "language_info": {
   "codemirror_mode": {
    "name": "ipython",
    "version": 3
   },
   "file_extension": ".py",
   "mimetype": "text/x-python",
   "name": "python",
   "nbconvert_exporter": "python",
   "pygments_lexer": "ipython3",
   "version": "3.10.7"
  },
  "orig_nbformat": 4
 },
 "nbformat": 4,
 "nbformat_minor": 2
}
